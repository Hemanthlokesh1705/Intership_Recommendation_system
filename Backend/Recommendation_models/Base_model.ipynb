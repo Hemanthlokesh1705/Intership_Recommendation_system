{
  "cells": [
    {
      "cell_type": "code",
      "execution_count": null,
      "metadata": {
        "id": "fG-sfwhjx-ZZ"
      },
      "outputs": [],
      "source": [
        "import pickle\n",
        "import pandas as pd\n",
        "from sentence_transformers import SentenceTransformer, util\n"
      ]
    },
    {
      "cell_type": "code",
      "execution_count": null,
      "metadata": {
        "id": "iiL2PhV1mvf3"
      },
      "outputs": [],
      "source": [
        "model = SentenceTransformer(\"sentence-transformers/all-MiniLM-L6-v2\")\n",
        "# with open(\"/content/subdomain_embeddings.pkl\", \"rb\") as f:\n",
        "#     subdomain_embeddings = pickle.load(f)\n"
      ]
    },
    {
      "cell_type": "code",
      "execution_count": null,
      "metadata": {
        "id": "cnT9dvDFOZsD"
      },
      "outputs": [],
      "source": [
        "internships = [\n",
        "    {\n",
        "        \"title\": \"AI-Powered Fraud Detection System\",\n",
        "        \"description\": \"Develop machine learning models using Python, TensorFlow, and SQL to detect financial fraud in real-time.\"\n",
        "    },\n",
        "    {\n",
        "        \"title\": \"Cloud Infrastructure Engineer Intern\",\n",
        "        \"description\": \"Assist in deploying scalable microservices on AWS and Kubernetes with CI/CD pipelines and Docker containers.\"\n",
        "    },\n",
        "    {\n",
        "        \"title\": \"Full-Stack Developer Intern\",\n",
        "        \"description\": \"Build end-to-end applications using React, Node.js, and Django, focusing on responsive UI and efficient APIs.\"\n",
        "    },\n",
        "    {\n",
        "        \"title\": \"Data Science Research Intern\",\n",
        "        \"description\": \"Work on predictive analytics with Python, R, Pandas, and PyTorch for healthcare datasets.\"\n",
        "    },\n",
        "    {\n",
        "        \"title\": \"Cybersecurity Analyst Intern\",\n",
        "        \"description\": \"Perform penetration testing, vulnerability assessment, and implement network security solutions with SIEM tools.\"\n",
        "    },\n",
        "    {\n",
        "        \"title\": \"DevOps Automation Intern\",\n",
        "        \"description\": \"Automate deployments with Terraform, Docker, and CI/CD pipelines on Azure cloud infrastructure.\"\n",
        "    },\n",
        "    {\n",
        "        \"title\": \"Mobile App Development Intern\",\n",
        "        \"description\": \"Develop Android apps with Java and React Native, integrating Firebase authentication and cloud storage.\"\n",
        "    },\n",
        "    {\n",
        "        \"title\": \"Big Data Engineer Intern\",\n",
        "        \"description\": \"Process large-scale datasets using Hadoop, Spark, and Python for real-time analytics.\"\n",
        "    },\n",
        "    {\n",
        "        \"title\": \"AI Research Intern\",\n",
        "        \"description\": \"Explore advanced deep learning methods using TensorFlow, PyTorch, and reinforcement learning algorithms.\"\n",
        "    },\n",
        "    {\n",
        "        \"title\": \"Network Security Intern\",\n",
        "        \"description\": \"Configure firewalls, monitor security logs, and support cryptography implementations for enterprise systems.\"\n",
        "    }\n",
        "    ,{\n",
        "        \"title\": \"Autonomous Vehicle AI Intern\",\n",
        "        \"description\": \"Develop and optimize perception and navigation modules using computer vision, LiDAR data processing, ROS, and reinforcement learning algorithms for autonomous driving simulations.\"\n",
        "    },\n",
        "    {\n",
        "        \"title\": \"Quantum Computing Research Intern\",\n",
        "        \"description\": \"Work on designing quantum algorithms and simulating quantum circuits using Qiskit and Python, analyzing performance improvements over classical approaches for optimization problems.\"\n",
        "    },\n",
        "    {\n",
        "        \"title\": \"Robotics Control Systems Intern\",\n",
        "        \"description\": \"Implement real-time control algorithms for robotic manipulators using ROS, Gazebo simulations, PID controllers, and sensor fusion techniques for motion planning.\"\n",
        "    },\n",
        "    {\n",
        "        \"title\": \"AI-Driven Healthcare Diagnostics Intern\",\n",
        "        \"description\": \"Build predictive models for disease detection using multi-modal medical datasets, combining imaging, EHR records, and lab results leveraging Python, PyTorch, and scikit-learn.\"\n",
        "    },\n",
        "    {\n",
        "        \"title\": \"Blockchain Development Intern\",\n",
        "        \"description\": \"Develop decentralized applications and smart contracts on Ethereum using Solidity, Web3.js, and integrate them with off-chain data using oracles and IPFS.\"\n",
        "    },\n",
        "    {\n",
        "        \"title\": \"Natural Language Processing Intern\",\n",
        "        \"description\": \"Design and fine-tune transformer-based models for sentiment analysis, summarization, and question-answering systems using Hugging Face Transformers and TensorFlow.\"\n",
        "    },\n",
        "    {\n",
        "        \"title\": \"Augmented Reality Developer Intern\",\n",
        "        \"description\": \"Create AR experiences and mobile applications using Unity, ARKit/ARCore, and integrate 3D object tracking with real-time environmental mapping.\"\n",
        "    },\n",
        "    {\n",
        "        \"title\": \"Edge AI and IoT Intern\",\n",
        "        \"description\": \"Deploy and optimize lightweight deep learning models on edge devices (Raspberry Pi, NVIDIA Jetson) for real-time analytics, integrating with IoT sensors and MQTT protocols.\"\n",
        "    },\n",
        "    {\n",
        "        \"title\": \"Reinforcement Learning Research Intern\",\n",
        "        \"description\": \"Implement and experiment with deep reinforcement learning algorithms like PPO and DDPG to optimize multi-agent environments using Python and PyTorch.\"\n",
        "    },\n",
        "    {\n",
        "        \"title\": \"Cyber-Physical Systems Security Intern\",\n",
        "        \"description\": \"Analyze and secure industrial control systems, SCADA networks, and IoT devices by performing threat modeling, penetration testing, and implementing anomaly detection with ML techniques.\"\n",
        "    }\n",
        "]\n"
      ]
    },
    {
      "cell_type": "code",
      "execution_count": null,
      "metadata": {
        "id": "6KG28Xoem4yT"
      },
      "outputs": [],
      "source": [
        "for internship in internships:\n",
        "    text = f\"Internship Title: {internship['title']}. Description: {internship['description']}\"\n",
        "    internship[\"embedding\"] = model.encode(text, convert_to_tensor=True)\n",
        "user_skills = ['hadoop','aws','azure']\n",
        "user_text = f\"User profile with skills: {', '.join(user_skills)}.\"\n",
        "user_embedding = model.encode(user_text, convert_to_tensor=True)\n",
        "\n"
      ]
    },
    {
      "cell_type": "code",
      "execution_count": null,
      "metadata": {
        "id": "5lk-9RkQm8uE"
      },
      "outputs": [],
      "source": [
        "def compute_skill_overlap(user_skills, internship_embedding, model):\n",
        "    skill_sims = []\n",
        "    for skill in user_skills:\n",
        "        skill_embedding = model.encode(skill, convert_to_tensor=True)\n",
        "        sim = util.cos_sim(skill_embedding, internship_embedding).item()\n",
        "        skill_sims.append(sim)\n",
        "    return sum(skill_sims) / len(skill_sims) if skill_sims else 0.0\n"
      ]
    },
    {
      "cell_type": "code",
      "execution_count": null,
      "metadata": {
        "colab": {
          "base_uri": "https://localhost:8080/"
        },
        "id": "44OZ9gPLnB1q",
        "outputId": "20367c24-0f94-401e-9694-7f3b4767e33d"
      },
      "outputs": [
        {
          "name": "stdout",
          "output_type": "stream",
          "text": [
            "                                  title  \\\n",
            "0              Big Data Engineer Intern   \n",
            "1              DevOps Automation Intern   \n",
            "2  Cloud Infrastructure Engineer Intern   \n",
            "3         Mobile App Development Intern   \n",
            "4                Edge AI and IoT Intern   \n",
            "\n",
            "                                         description  similarity  \\\n",
            "0  Process large-scale datasets using Hadoop, Spa...      0.5157   \n",
            "1  Automate deployments with Terraform, Docker, a...      0.4473   \n",
            "2  Assist in deploying scalable microservices on ...      0.4247   \n",
            "3  Develop Android apps with Java and React Nativ...      0.3962   \n",
            "4  Deploy and optimize lightweight deep learning ...      0.2863   \n",
            "\n",
            "   skill_overlap  final_score  \n",
            "0         0.3571       0.4047  \n",
            "1         0.3383       0.3710  \n",
            "2         0.3318       0.3596  \n",
            "3         0.2580       0.2994  \n",
            "4         0.2621       0.2693  \n"
          ]
        }
      ],
      "source": [
        "\n",
        "results = []\n",
        "for internship in internships:\n",
        "    sim = util.cos_sim(user_embedding, internship[\"embedding\"]).item()\n",
        "    overlap = compute_skill_overlap(user_skills, internship[\"embedding\"], model)\n",
        "    final_score = 0.3 * sim + 0.7 * overlap\n",
        "\n",
        "    results.append({\n",
        "        \"title\": internship[\"title\"],\n",
        "        \"description\": internship[\"description\"],\n",
        "        \"similarity\": round(sim, 4),\n",
        "        \"skill_overlap\": round(overlap, 4),\n",
        "        \"final_score\": round(final_score, 4)\n",
        "    })\n",
        "recommendations = sorted(results, key=lambda x: x[\"final_score\"], reverse=True)\n",
        "filtered_recommendations = [r for r in recommendations if r[\"final_score\"] > 0.10]\n",
        "df = pd.DataFrame(filtered_recommendations[:5])\n",
        "print(df[[\"title\", \"description\", \"similarity\", \"skill_overlap\", \"final_score\"]])"
      ]
    }
  ],
  "metadata": {
    "colab": {
      "provenance": []
    },
    "kernelspec": {
      "display_name": "Python 3",
      "name": "python3"
    },
    "language_info": {
      "name": "python"
    }
  },
  "nbformat": 4,
  "nbformat_minor": 0
}
